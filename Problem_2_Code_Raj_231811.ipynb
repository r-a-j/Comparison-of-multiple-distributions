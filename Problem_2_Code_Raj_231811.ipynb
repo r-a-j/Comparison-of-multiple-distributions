{
  "cells": [
    {
      "cell_type": "markdown",
      "metadata": {
        "id": "sp-0e_WcRFMM"
      },
      "source": [
        "### Introductory Case Studies Report 2"
      ]
    },
    {
      "cell_type": "code",
      "execution_count": 1,
      "metadata": {
        "id": "wkQBwrkCRFMQ"
      },
      "outputs": [],
      "source": [
        "import pandas as pd\n",
        "\n",
        "# used for the graphs\n",
        "import seaborn as sns\n",
        "import os\n",
        "\n",
        "# used for testing\n",
        "from scipy import stats\n",
        "import statsmodels.api as sm\n",
        "from statsmodels.formula.api import ols\n",
        "from statsmodels.stats.weightstats import ttest_ind as ttest\n",
        "\n",
        "# used for plotting\n",
        "from matplotlib import pyplot as plt\n",
        "import matplotlib\n",
        "%matplotlib inline"
      ]
    },
    {
      "cell_type": "code",
      "execution_count": 2,
      "metadata": {
        "id": "EWN96lKbRFMS"
      },
      "outputs": [],
      "source": [
        "data = pd.read_csv(\"SwimmingTimes.csv\")"
      ]
    },
    {
      "cell_type": "code",
      "execution_count": 3,
      "metadata": {
        "colab": {
          "base_uri": "https://localhost:8080/",
          "height": 488
        },
        "id": "hzUKaJNWh83f",
        "outputId": "aa871f60-5670-47b1-8a09-e41c9dfeed3b"
      },
      "outputs": [
        {
          "data": {
            "text/html": [
              "<div>\n",
              "<style scoped>\n",
              "    .dataframe tbody tr th:only-of-type {\n",
              "        vertical-align: middle;\n",
              "    }\n",
              "\n",
              "    .dataframe tbody tr th {\n",
              "        vertical-align: top;\n",
              "    }\n",
              "\n",
              "    .dataframe thead th {\n",
              "        text-align: right;\n",
              "    }\n",
              "</style>\n",
              "<table border=\"1\" class=\"dataframe\">\n",
              "  <thead>\n",
              "    <tr style=\"text-align: right;\">\n",
              "      <th></th>\n",
              "      <th>Category</th>\n",
              "      <th>Name</th>\n",
              "      <th>Time</th>\n",
              "    </tr>\n",
              "  </thead>\n",
              "  <tbody>\n",
              "    <tr>\n",
              "      <th>1</th>\n",
              "      <td>Backstroke</td>\n",
              "      <td>AnastasyaGorbenko</td>\n",
              "      <td>131.46</td>\n",
              "    </tr>\n",
              "    <tr>\n",
              "      <th>4</th>\n",
              "      <td>Backstroke</td>\n",
              "      <td>KatieShanahan</td>\n",
              "      <td>129.82</td>\n",
              "    </tr>\n",
              "    <tr>\n",
              "      <th>18</th>\n",
              "      <td>Breaststroke</td>\n",
              "      <td>KristynaHorska</td>\n",
              "      <td>145.55</td>\n",
              "    </tr>\n",
              "    <tr>\n",
              "      <th>23</th>\n",
              "      <td>Breaststroke</td>\n",
              "      <td>LauraLahtinen</td>\n",
              "      <td>147.60</td>\n",
              "    </tr>\n",
              "    <tr>\n",
              "      <th>32</th>\n",
              "      <td>Butterfly</td>\n",
              "      <td>MireiaBelmonteGarcia</td>\n",
              "      <td>134.01</td>\n",
              "    </tr>\n",
              "    <tr>\n",
              "      <th>33</th>\n",
              "      <td>Butterfly</td>\n",
              "      <td>KatinkaHosszu</td>\n",
              "      <td>134.54</td>\n",
              "    </tr>\n",
              "    <tr>\n",
              "      <th>41</th>\n",
              "      <td>Butterfly</td>\n",
              "      <td>LauraLahtinen</td>\n",
              "      <td>131.41</td>\n",
              "    </tr>\n",
              "    <tr>\n",
              "      <th>50</th>\n",
              "      <td>Freestyle</td>\n",
              "      <td>MarritSteenbergen</td>\n",
              "      <td>117.40</td>\n",
              "    </tr>\n",
              "    <tr>\n",
              "      <th>66</th>\n",
              "      <td>Medley</td>\n",
              "      <td>KatieShanahan</td>\n",
              "      <td>131.84</td>\n",
              "    </tr>\n",
              "    <tr>\n",
              "      <th>68</th>\n",
              "      <td>Medley</td>\n",
              "      <td>KristynaHorska</td>\n",
              "      <td>132.99</td>\n",
              "    </tr>\n",
              "    <tr>\n",
              "      <th>69</th>\n",
              "      <td>Medley</td>\n",
              "      <td>MarritSteenbergen</td>\n",
              "      <td>132.31</td>\n",
              "    </tr>\n",
              "    <tr>\n",
              "      <th>75</th>\n",
              "      <td>Medley</td>\n",
              "      <td>AnastasyaGorbenko</td>\n",
              "      <td>132.91</td>\n",
              "    </tr>\n",
              "    <tr>\n",
              "      <th>76</th>\n",
              "      <td>Medley</td>\n",
              "      <td>KatinkaHosszu</td>\n",
              "      <td>132.52</td>\n",
              "    </tr>\n",
              "    <tr>\n",
              "      <th>78</th>\n",
              "      <td>Medley</td>\n",
              "      <td>MireiaBelmonteGarcia</td>\n",
              "      <td>135.47</td>\n",
              "    </tr>\n",
              "  </tbody>\n",
              "</table>\n",
              "</div>"
            ],
            "text/plain": [
              "        Category                  Name    Time\n",
              "1     Backstroke     AnastasyaGorbenko  131.46\n",
              "4     Backstroke         KatieShanahan  129.82\n",
              "18  Breaststroke        KristynaHorska  145.55\n",
              "23  Breaststroke         LauraLahtinen  147.60\n",
              "32     Butterfly  MireiaBelmonteGarcia  134.01\n",
              "33     Butterfly         KatinkaHosszu  134.54\n",
              "41     Butterfly         LauraLahtinen  131.41\n",
              "50     Freestyle     MarritSteenbergen  117.40\n",
              "66        Medley         KatieShanahan  131.84\n",
              "68        Medley        KristynaHorska  132.99\n",
              "69        Medley     MarritSteenbergen  132.31\n",
              "75        Medley     AnastasyaGorbenko  132.91\n",
              "76        Medley         KatinkaHosszu  132.52\n",
              "78        Medley  MireiaBelmonteGarcia  135.47"
            ]
          },
          "execution_count": 3,
          "metadata": {},
          "output_type": "execute_result"
        }
      ],
      "source": [
        "# Check duplicated\n",
        "duplicate = data[data.duplicated('Name',keep = False)]\n",
        "duplicate"
      ]
    },
    {
      "cell_type": "code",
      "execution_count": 4,
      "metadata": {
        "colab": {
          "base_uri": "https://localhost:8080/",
          "height": 424
        },
        "id": "XE2BocxAwfwE",
        "outputId": "a97f37e3-4f7d-400c-8187-a6370faad25c"
      },
      "outputs": [
        {
          "data": {
            "text/html": [
              "<div>\n",
              "<style scoped>\n",
              "    .dataframe tbody tr th:only-of-type {\n",
              "        vertical-align: middle;\n",
              "    }\n",
              "\n",
              "    .dataframe tbody tr th {\n",
              "        vertical-align: top;\n",
              "    }\n",
              "\n",
              "    .dataframe thead th {\n",
              "        text-align: right;\n",
              "    }\n",
              "</style>\n",
              "<table border=\"1\" class=\"dataframe\">\n",
              "  <thead>\n",
              "    <tr style=\"text-align: right;\">\n",
              "      <th></th>\n",
              "      <th>Category</th>\n",
              "      <th>Name</th>\n",
              "      <th>Time</th>\n",
              "    </tr>\n",
              "  </thead>\n",
              "  <tbody>\n",
              "    <tr>\n",
              "      <th>0</th>\n",
              "      <td>Backstroke</td>\n",
              "      <td>SonneleOeztuerk</td>\n",
              "      <td>133.97</td>\n",
              "    </tr>\n",
              "    <tr>\n",
              "      <th>2</th>\n",
              "      <td>Backstroke</td>\n",
              "      <td>CamilaRodriguesRebelo</td>\n",
              "      <td>131.05</td>\n",
              "    </tr>\n",
              "    <tr>\n",
              "      <th>3</th>\n",
              "      <td>Backstroke</td>\n",
              "      <td>DoraMolnar</td>\n",
              "      <td>129.88</td>\n",
              "    </tr>\n",
              "    <tr>\n",
              "      <th>5</th>\n",
              "      <td>Backstroke</td>\n",
              "      <td>CarmenWeilerSastre</td>\n",
              "      <td>131.78</td>\n",
              "    </tr>\n",
              "    <tr>\n",
              "      <th>6</th>\n",
              "      <td>Backstroke</td>\n",
              "      <td>LenaGrabowski</td>\n",
              "      <td>130.78</td>\n",
              "    </tr>\n",
              "    <tr>\n",
              "      <th>...</th>\n",
              "      <td>...</td>\n",
              "      <td>...</td>\n",
              "      <td>...</td>\n",
              "    </tr>\n",
              "    <tr>\n",
              "      <th>75</th>\n",
              "      <td>Medley</td>\n",
              "      <td>AnastasyaGorbenko</td>\n",
              "      <td>132.91</td>\n",
              "    </tr>\n",
              "    <tr>\n",
              "      <th>76</th>\n",
              "      <td>Medley</td>\n",
              "      <td>KatinkaHosszu</td>\n",
              "      <td>132.52</td>\n",
              "    </tr>\n",
              "    <tr>\n",
              "      <th>77</th>\n",
              "      <td>Medley</td>\n",
              "      <td>LenaKreundl</td>\n",
              "      <td>135.37</td>\n",
              "    </tr>\n",
              "    <tr>\n",
              "      <th>78</th>\n",
              "      <td>Medley</td>\n",
              "      <td>MireiaBelmonteGarcia</td>\n",
              "      <td>135.47</td>\n",
              "    </tr>\n",
              "    <tr>\n",
              "      <th>79</th>\n",
              "      <td>Medley</td>\n",
              "      <td>FrancescaFresia</td>\n",
              "      <td>136.37</td>\n",
              "    </tr>\n",
              "  </tbody>\n",
              "</table>\n",
              "<p>73 rows × 3 columns</p>\n",
              "</div>"
            ],
            "text/plain": [
              "      Category                   Name    Time\n",
              "0   Backstroke        SonneleOeztuerk  133.97\n",
              "2   Backstroke  CamilaRodriguesRebelo  131.05\n",
              "3   Backstroke             DoraMolnar  129.88\n",
              "5   Backstroke     CarmenWeilerSastre  131.78\n",
              "6   Backstroke          LenaGrabowski  130.78\n",
              "..         ...                    ...     ...\n",
              "75      Medley      AnastasyaGorbenko  132.91\n",
              "76      Medley          KatinkaHosszu  132.52\n",
              "77      Medley            LenaKreundl  135.37\n",
              "78      Medley   MireiaBelmonteGarcia  135.47\n",
              "79      Medley        FrancescaFresia  136.37\n",
              "\n",
              "[73 rows x 3 columns]"
            ]
          },
          "execution_count": 4,
          "metadata": {},
          "output_type": "execute_result"
        }
      ],
      "source": [
        "# Drop duplicated\n",
        "\n",
        "data_unique = data.drop_duplicates(subset=['Name'],keep = 'last')\n",
        "data_unique"
      ]
    },
    {
      "cell_type": "code",
      "execution_count": 5,
      "metadata": {
        "colab": {
          "base_uri": "https://localhost:8080/",
          "height": 302
        },
        "id": "Sszpbcvt2xyq",
        "outputId": "1779a5a0-c857-42c0-e54d-6bc4192ca464"
      },
      "outputs": [
        {
          "data": {
            "image/png": "[encoded data removed]",
            "text/plain": [
              "<Figure size 432x288 with 1 Axes>"
            ]
          },
          "metadata": {
            "needs_background": "light"
          },
          "output_type": "display_data"
        }
      ],
      "source": [
        "data_unique[\"Time\"].plot(kind = \"hist\", density = True, bins=50)\n",
        "plt.show()"
      ]
    },
    {
      "cell_type": "code",
      "execution_count": 6,
      "metadata": {
        "colab": {
          "base_uri": "https://localhost:8080/"
        },
        "id": "264MQwOYRFMS",
        "outputId": "f4c9c674-02f9-4cad-f228-d256a41e6737"
      },
      "outputs": [
        {
          "name": "stdout",
          "output_type": "stream",
          "text": [
            "NAN Rows:  0\n"
          ]
        }
      ],
      "source": [
        "# Checking nans\n",
        "nan_rows = data_unique[data_unique.isnull().any(axis=1)]\n",
        "print(\"NAN Rows: \", len(nan_rows))"
      ]
    },
    {
      "cell_type": "markdown",
      "metadata": {
        "id": "3FPho3GURFMU"
      },
      "source": [
        "Description of the variables"
      ]
    },
    {
      "cell_type": "code",
      "execution_count": 7,
      "metadata": {
        "colab": {
          "base_uri": "https://localhost:8080/",
          "height": 318
        },
        "id": "cPwMARHZRFMU",
        "outputId": "7f09b2aa-f18e-4e7e-b86b-ee696a535071"
      },
      "outputs": [
        {
          "name": "stdout",
          "output_type": "stream",
          "text": [
            "Data set size:  73\n"
          ]
        },
        {
          "data": {
            "text/html": [
              "<div>\n",
              "<style scoped>\n",
              "    .dataframe tbody tr th:only-of-type {\n",
              "        vertical-align: middle;\n",
              "    }\n",
              "\n",
              "    .dataframe tbody tr th {\n",
              "        vertical-align: top;\n",
              "    }\n",
              "\n",
              "    .dataframe thead th {\n",
              "        text-align: right;\n",
              "    }\n",
              "</style>\n",
              "<table border=\"1\" class=\"dataframe\">\n",
              "  <thead>\n",
              "    <tr style=\"text-align: right;\">\n",
              "      <th></th>\n",
              "      <th>Time</th>\n",
              "    </tr>\n",
              "  </thead>\n",
              "  <tbody>\n",
              "    <tr>\n",
              "      <th>count</th>\n",
              "      <td>73.000000</td>\n",
              "    </tr>\n",
              "    <tr>\n",
              "      <th>mean</th>\n",
              "      <td>132.409863</td>\n",
              "    </tr>\n",
              "    <tr>\n",
              "      <th>std</th>\n",
              "      <td>8.789126</td>\n",
              "    </tr>\n",
              "    <tr>\n",
              "      <th>min</th>\n",
              "      <td>117.700000</td>\n",
              "    </tr>\n",
              "    <tr>\n",
              "      <th>25%</th>\n",
              "      <td>129.250000</td>\n",
              "    </tr>\n",
              "    <tr>\n",
              "      <th>50%</th>\n",
              "      <td>132.310000</td>\n",
              "    </tr>\n",
              "    <tr>\n",
              "      <th>75%</th>\n",
              "      <td>135.470000</td>\n",
              "    </tr>\n",
              "    <tr>\n",
              "      <th>max</th>\n",
              "      <td>148.400000</td>\n",
              "    </tr>\n",
              "  </tbody>\n",
              "</table>\n",
              "</div>"
            ],
            "text/plain": [
              "             Time\n",
              "count   73.000000\n",
              "mean   132.409863\n",
              "std      8.789126\n",
              "min    117.700000\n",
              "25%    129.250000\n",
              "50%    132.310000\n",
              "75%    135.470000\n",
              "max    148.400000"
            ]
          },
          "execution_count": 7,
          "metadata": {},
          "output_type": "execute_result"
        }
      ],
      "source": [
        "print(\"Data set size: \", len(data_unique))\n",
        "data_unique.describe()"
      ]
    },
    {
      "cell_type": "code",
      "execution_count": 8,
      "metadata": {
        "colab": {
          "base_uri": "https://localhost:8080/"
        },
        "id": "4rPTwqFiRFMV",
        "outputId": "94091b74-bd32-4b33-cdf9-ffdc7c5b84a9"
      },
      "outputs": [
        {
          "data": {
            "text/plain": [
              "['Backstroke', 'Breaststroke', 'Butterfly', 'Freestyle', 'Medley']"
            ]
          },
          "execution_count": 8,
          "metadata": {},
          "output_type": "execute_result"
        }
      ],
      "source": [
        "# Unique swimming categories in data\n",
        "categories = data_unique[\"Category\"].unique().tolist()\n",
        "categories"
      ]
    },
    {
      "cell_type": "code",
      "execution_count": 9,
      "metadata": {
        "id": "cNEEoZMdRFMV"
      },
      "outputs": [],
      "source": [
        "# Grouping data by category\n",
        "\n",
        "grouped_data = data_unique.groupby(\"Category\")\n",
        "category_list = list(grouped_data)"
      ]
    },
    {
      "cell_type": "code",
      "execution_count": 10,
      "metadata": {
        "colab": {
          "base_uri": "https://localhost:8080/",
          "height": 238
        },
        "id": "koQeohnbRFMV",
        "outputId": "f38eadf0-f6e9-40dc-ae09-a4b5f7ff6198"
      },
      "outputs": [
        {
          "data": {
            "text/html": [
              "<div>\n",
              "<style scoped>\n",
              "    .dataframe tbody tr th:only-of-type {\n",
              "        vertical-align: middle;\n",
              "    }\n",
              "\n",
              "    .dataframe tbody tr th {\n",
              "        vertical-align: top;\n",
              "    }\n",
              "\n",
              "    .dataframe thead th {\n",
              "        text-align: right;\n",
              "    }\n",
              "</style>\n",
              "<table border=\"1\" class=\"dataframe\">\n",
              "  <thead>\n",
              "    <tr style=\"text-align: right;\">\n",
              "      <th></th>\n",
              "      <th>count</th>\n",
              "      <th>mean</th>\n",
              "      <th>std</th>\n",
              "      <th>min</th>\n",
              "      <th>25%</th>\n",
              "      <th>50%</th>\n",
              "      <th>75%</th>\n",
              "      <th>max</th>\n",
              "      <th>IQR</th>\n",
              "    </tr>\n",
              "    <tr>\n",
              "      <th>Category</th>\n",
              "      <th></th>\n",
              "      <th></th>\n",
              "      <th></th>\n",
              "      <th></th>\n",
              "      <th></th>\n",
              "      <th></th>\n",
              "      <th></th>\n",
              "      <th></th>\n",
              "      <th></th>\n",
              "    </tr>\n",
              "  </thead>\n",
              "  <tbody>\n",
              "    <tr>\n",
              "      <th>Backstroke</th>\n",
              "      <td>14.0</td>\n",
              "      <td>131.38</td>\n",
              "      <td>1.85</td>\n",
              "      <td>128.18</td>\n",
              "      <td>130.31</td>\n",
              "      <td>131.12</td>\n",
              "      <td>131.82</td>\n",
              "      <td>135.74</td>\n",
              "      <td>1.52</td>\n",
              "    </tr>\n",
              "    <tr>\n",
              "      <th>Breaststroke</th>\n",
              "      <td>14.0</td>\n",
              "      <td>146.31</td>\n",
              "      <td>1.51</td>\n",
              "      <td>143.73</td>\n",
              "      <td>145.29</td>\n",
              "      <td>146.66</td>\n",
              "      <td>147.29</td>\n",
              "      <td>148.40</td>\n",
              "      <td>2.00</td>\n",
              "    </tr>\n",
              "    <tr>\n",
              "      <th>Butterfly</th>\n",
              "      <td>14.0</td>\n",
              "      <td>131.66</td>\n",
              "      <td>2.61</td>\n",
              "      <td>128.48</td>\n",
              "      <td>129.50</td>\n",
              "      <td>130.83</td>\n",
              "      <td>133.92</td>\n",
              "      <td>136.92</td>\n",
              "      <td>4.42</td>\n",
              "    </tr>\n",
              "    <tr>\n",
              "      <th>Freestyle</th>\n",
              "      <td>15.0</td>\n",
              "      <td>119.36</td>\n",
              "      <td>1.56</td>\n",
              "      <td>117.70</td>\n",
              "      <td>117.87</td>\n",
              "      <td>119.50</td>\n",
              "      <td>120.10</td>\n",
              "      <td>122.42</td>\n",
              "      <td>2.23</td>\n",
              "    </tr>\n",
              "    <tr>\n",
              "      <th>Medley</th>\n",
              "      <td>16.0</td>\n",
              "      <td>134.04</td>\n",
              "      <td>1.59</td>\n",
              "      <td>131.84</td>\n",
              "      <td>132.87</td>\n",
              "      <td>133.45</td>\n",
              "      <td>135.35</td>\n",
              "      <td>137.02</td>\n",
              "      <td>2.47</td>\n",
              "    </tr>\n",
              "  </tbody>\n",
              "</table>\n",
              "</div>"
            ],
            "text/plain": [
              "              count    mean   std     min     25%     50%     75%     max  \\\n",
              "Category                                                                    \n",
              "Backstroke     14.0  131.38  1.85  128.18  130.31  131.12  131.82  135.74   \n",
              "Breaststroke   14.0  146.31  1.51  143.73  145.29  146.66  147.29  148.40   \n",
              "Butterfly      14.0  131.66  2.61  128.48  129.50  130.83  133.92  136.92   \n",
              "Freestyle      15.0  119.36  1.56  117.70  117.87  119.50  120.10  122.42   \n",
              "Medley         16.0  134.04  1.59  131.84  132.87  133.45  135.35  137.02   \n",
              "\n",
              "               IQR  \n",
              "Category            \n",
              "Backstroke    1.52  \n",
              "Breaststroke  2.00  \n",
              "Butterfly     4.42  \n",
              "Freestyle     2.23  \n",
              "Medley        2.47  "
            ]
          },
          "execution_count": 10,
          "metadata": {},
          "output_type": "execute_result"
        }
      ],
      "source": [
        "# Check Inter Quartile Range (IQR)\n",
        "\n",
        "x = grouped_data[\"Time\"].describe()\n",
        "x[\"IQR\"] = x[\"75%\"] - x[\"25%\"]\n",
        "x.round(2)"
      ]
    },
    {
      "cell_type": "code",
      "execution_count": 11,
      "metadata": {
        "id": "7BdZE0b8RFMW"
      },
      "outputs": [],
      "source": [
        "# separating data into different data frames\n",
        "\n",
        "df_backstroke = category_list[0][1]\n",
        "df_breaststroke = category_list[1][1]\n",
        "df_butterfly = category_list[2][1]\n",
        "df_freestyle = category_list[3][1]\n",
        "df_medley = category_list[4][1]\n",
        "\n",
        "df_backstroke = df_backstroke.reset_index(drop=True)\n",
        "df_breaststroke = df_breaststroke.reset_index(drop=True)\n",
        "df_butterfly = df_butterfly.reset_index(drop=True)\n",
        "df_freestyle = df_freestyle.reset_index(drop=True)\n",
        "df_medley = df_medley.reset_index(drop=True)"
      ]
    },
    {
      "cell_type": "markdown",
      "metadata": {
        "id": "ViXUVhWHRFMb"
      },
      "source": [
        "Descriptive Analysis of variables"
      ]
    },
    {
      "cell_type": "code",
      "execution_count": 12,
      "metadata": {
        "id": "Essexc_FRFMc"
      },
      "outputs": [],
      "source": [
        "# creating directory to save plots.\n",
        "\n",
        "if not os.path.isdir('Plots'):\n",
        "    os.mkdir(\"Plots\")"
      ]
    },
    {
      "cell_type": "code",
      "execution_count": 13,
      "metadata": {
        "colab": {
          "base_uri": "https://localhost:8080/",
          "height": 279
        },
        "id": "Kg7Zl_ZSRFMc",
        "outputId": "89ad1314-9d85-4708-ffd9-71a32020074d"
      },
      "outputs": [
        {
          "data": {
            "image/png": "[encoded data removed]",
            "text/plain": [
              "<Figure size 432x288 with 1 Axes>"
            ]
          },
          "metadata": {
            "needs_background": "light"
          },
          "output_type": "display_data"
        }
      ],
      "source": [
        "# generating box-plot for swimming categories based on time\n",
        "\n",
        "box_plot = sns.boxplot(y='Time', x='Category', data=data_unique, width=0.6, palette=\"colorblind\")\n",
        "box_plot.figure.savefig(\"Plots/box_plot.pdf\", dpi=180)"
      ]
    },
    {
      "cell_type": "markdown",
      "metadata": {
        "id": "Tu-g2LGSRFMc"
      },
      "source": [
        "QQ Plots - Used to test assumptions for annova"
      ]
    },
    {
      "cell_type": "markdown",
      "metadata": {
        "id": "gOJowJ4pRFMc"
      },
      "source": [
        "#### Backstroke"
      ]
    },
    {
      "cell_type": "code",
      "execution_count": 14,
      "metadata": {
        "colab": {
          "base_uri": "https://localhost:8080/",
          "height": 280
        },
        "id": "GOLsUkrDRFMc",
        "outputId": "61046566-b309-4516-de72-99cdd2e81e02"
      },
      "outputs": [
        {
          "name": "stderr",
          "output_type": "stream",
          "text": [
            "c:\\Users\\raj24\\anaconda3\\lib\\site-packages\\statsmodels\\graphics\\gofplots.py:993: UserWarning: marker is redundantly defined by the 'marker' keyword argument and the fmt string \"bo\" (-> marker='o'). The keyword argument will take precedence.\n",
            "  ax.plot(x, y, fmt, **plot_style)\n"
          ]
        },
        {
          "data": {
            "image/png": "[encoded data removed]",
            "text/plain": [
              "<Figure size 432x288 with 1 Axes>"
            ]
          },
          "metadata": {
            "needs_background": "light"
          },
          "output_type": "display_data"
        }
      ],
      "source": [
        "fig = sm.qqplot(df_backstroke[\"Time\"], line='s')\n",
        "plt.show()\n",
        "fig.savefig(\"Plots/qqplot_backstroke.pdf\", dpi=180)"
      ]
    },
    {
      "cell_type": "markdown",
      "metadata": {
        "id": "k9FeVUE1RFMd"
      },
      "source": [
        "#### Breaststroke"
      ]
    },
    {
      "cell_type": "code",
      "execution_count": 15,
      "metadata": {
        "colab": {
          "base_uri": "https://localhost:8080/",
          "height": 279
        },
        "id": "ZZkGePqORFMd",
        "outputId": "45a19e38-a5de-4433-90e2-dd5a2350db08"
      },
      "outputs": [
        {
          "name": "stderr",
          "output_type": "stream",
          "text": [
            "c:\\Users\\raj24\\anaconda3\\lib\\site-packages\\statsmodels\\graphics\\gofplots.py:993: UserWarning: marker is redundantly defined by the 'marker' keyword argument and the fmt string \"bo\" (-> marker='o'). The keyword argument will take precedence.\n",
            "  ax.plot(x, y, fmt, **plot_style)\n"
          ]
        },
        {
          "data": {
            "image/png": "[encoded data removed]",
            "text/plain": [
              "<Figure size 432x288 with 1 Axes>"
            ]
          },
          "metadata": {
            "needs_background": "light"
          },
          "output_type": "display_data"
        }
      ],
      "source": [
        "fig = sm.qqplot(df_breaststroke[\"Time\"], line='s')\n",
        "plt.show()\n",
        "fig.savefig(\"Plots/qqplot_breaststroke.pdf\", dpi=180)"
      ]
    },
    {
      "cell_type": "markdown",
      "metadata": {
        "id": "MLuYGR8WRFMd"
      },
      "source": [
        "#### Butterfly"
      ]
    },
    {
      "cell_type": "code",
      "execution_count": 16,
      "metadata": {
        "colab": {
          "base_uri": "https://localhost:8080/",
          "height": 279
        },
        "id": "GbvaPOjaRFMd",
        "outputId": "2535c6da-f00c-4448-e4d8-8d8b32a6d4c4"
      },
      "outputs": [
        {
          "name": "stderr",
          "output_type": "stream",
          "text": [
            "c:\\Users\\raj24\\anaconda3\\lib\\site-packages\\statsmodels\\graphics\\gofplots.py:993: UserWarning: marker is redundantly defined by the 'marker' keyword argument and the fmt string \"bo\" (-> marker='o'). The keyword argument will take precedence.\n",
            "  ax.plot(x, y, fmt, **plot_style)\n"
          ]
        },
        {
          "data": {
            "image/png": "[encoded data removed]",
            "text/plain": [
              "<Figure size 432x288 with 1 Axes>"
            ]
          },
          "metadata": {
            "needs_background": "light"
          },
          "output_type": "display_data"
        }
      ],
      "source": [
        "fig = sm.qqplot(df_butterfly[\"Time\"], line='s')\n",
        "plt.show()\n",
        "fig.savefig(\"Plots/qqplot_butterfly.pdf\", dpi=180)"
      ]
    },
    {
      "cell_type": "markdown",
      "metadata": {
        "id": "fsaAdUEqRFMd"
      },
      "source": [
        "#### Freestyle"
      ]
    },
    {
      "cell_type": "code",
      "execution_count": 17,
      "metadata": {
        "colab": {
          "base_uri": "https://localhost:8080/",
          "height": 279
        },
        "id": "ZUnEl0phRFMd",
        "outputId": "93601680-68e6-4ab6-97a2-7c370572b815"
      },
      "outputs": [
        {
          "name": "stderr",
          "output_type": "stream",
          "text": [
            "c:\\Users\\raj24\\anaconda3\\lib\\site-packages\\statsmodels\\graphics\\gofplots.py:993: UserWarning: marker is redundantly defined by the 'marker' keyword argument and the fmt string \"bo\" (-> marker='o'). The keyword argument will take precedence.\n",
            "  ax.plot(x, y, fmt, **plot_style)\n"
          ]
        },
        {
          "data": {
            "image/png": "[encoded data removed]",
            "text/plain": [
              "<Figure size 432x288 with 1 Axes>"
            ]
          },
          "metadata": {
            "needs_background": "light"
          },
          "output_type": "display_data"
        }
      ],
      "source": [
        "fig = sm.qqplot(df_freestyle[\"Time\"], line='s')\n",
        "plt.show()\n",
        "fig.savefig(\"Plots/qqplot_freestyle.pdf\", dpi=180)"
      ]
    },
    {
      "cell_type": "markdown",
      "metadata": {
        "id": "-am4sx-vC-F1"
      },
      "source": [
        "#### Medley"
      ]
    },
    {
      "cell_type": "code",
      "execution_count": 18,
      "metadata": {
        "colab": {
          "base_uri": "https://localhost:8080/",
          "height": 279
        },
        "id": "HcyX7QOFDBdQ",
        "outputId": "d69c7d9a-e3f6-405d-b3fa-5f6057f59112"
      },
      "outputs": [
        {
          "name": "stderr",
          "output_type": "stream",
          "text": [
            "c:\\Users\\raj24\\anaconda3\\lib\\site-packages\\statsmodels\\graphics\\gofplots.py:993: UserWarning: marker is redundantly defined by the 'marker' keyword argument and the fmt string \"bo\" (-> marker='o'). The keyword argument will take precedence.\n",
            "  ax.plot(x, y, fmt, **plot_style)\n"
          ]
        },
        {
          "data": {
            "image/png": "[encoded data removed]",
            "text/plain": [
              "<Figure size 432x288 with 1 Axes>"
            ]
          },
          "metadata": {
            "needs_background": "light"
          },
          "output_type": "display_data"
        }
      ],
      "source": [
        "fig = sm.qqplot(df_medley[\"Time\"], line='s')\n",
        "plt.show()\n",
        "fig.savefig(\"Plots/qqplot_medley.pdf\", dpi=180)"
      ]
    },
    {
      "cell_type": "markdown",
      "metadata": {
        "id": "2Mu3sROMRFMe"
      },
      "source": [
        "Annova Test - Used to conduct a global test"
      ]
    },
    {
      "cell_type": "code",
      "execution_count": 19,
      "metadata": {
        "colab": {
          "base_uri": "https://localhost:8080/",
          "height": 112
        },
        "id": "K2SNQy9BRFMe",
        "outputId": "48abd661-dfbb-425c-a891-2fed8a7ead02"
      },
      "outputs": [
        {
          "data": {
            "text/html": [
              "<div>\n",
              "<style scoped>\n",
              "    .dataframe tbody tr th:only-of-type {\n",
              "        vertical-align: middle;\n",
              "    }\n",
              "\n",
              "    .dataframe tbody tr th {\n",
              "        vertical-align: top;\n",
              "    }\n",
              "\n",
              "    .dataframe thead th {\n",
              "        text-align: right;\n",
              "    }\n",
              "</style>\n",
              "<table border=\"1\" class=\"dataframe\">\n",
              "  <thead>\n",
              "    <tr style=\"text-align: right;\">\n",
              "      <th></th>\n",
              "      <th>sum_sq</th>\n",
              "      <th>df</th>\n",
              "      <th>F</th>\n",
              "      <th>PR(&gt;F)</th>\n",
              "    </tr>\n",
              "  </thead>\n",
              "  <tbody>\n",
              "    <tr>\n",
              "      <th>C(Category)</th>\n",
              "      <td>5327.241994</td>\n",
              "      <td>4.0</td>\n",
              "      <td>385.922627</td>\n",
              "      <td>6.076029e-46</td>\n",
              "    </tr>\n",
              "    <tr>\n",
              "      <th>Residual</th>\n",
              "      <td>234.666504</td>\n",
              "      <td>68.0</td>\n",
              "      <td>NaN</td>\n",
              "      <td>NaN</td>\n",
              "    </tr>\n",
              "  </tbody>\n",
              "</table>\n",
              "</div>"
            ],
            "text/plain": [
              "                  sum_sq    df           F        PR(>F)\n",
              "C(Category)  5327.241994   4.0  385.922627  6.076029e-46\n",
              "Residual      234.666504  68.0         NaN           NaN"
            ]
          },
          "execution_count": 19,
          "metadata": {},
          "output_type": "execute_result"
        }
      ],
      "source": [
        "st_model = ols('Time ~ C(Category)', data=data_unique).fit()\n",
        "result_anova = sm.stats.anova_lm(st_model, typ=2)\n",
        "result_anova"
      ]
    },
    {
      "cell_type": "code",
      "execution_count": 20,
      "metadata": {
        "colab": {
          "base_uri": "https://localhost:8080/"
        },
        "id": "66CPzR1wRFMe",
        "outputId": "ea4e6eaa-1f16-453c-9a37-0d3fa3bcd77c"
      },
      "outputs": [
        {
          "name": "stdout",
          "output_type": "stream",
          "text": [
            "\\begin{tabular}{lrrrr}\n",
            "\\toprule\n",
            "{} &   sum\\_sq &    df &       F &  PR(>F) \\\\\n",
            "\\midrule\n",
            "C(Category) &  5327.24 &   4.0 &  385.92 &     0.0 \\\\\n",
            "Residual    &   234.67 &  68.0 &     NaN &     NaN \\\\\n",
            "\\bottomrule\n",
            "\\end{tabular}\n",
            "\n"
          ]
        }
      ],
      "source": [
        "# converting result to tex-format\n",
        "#print(result_anova.round(2))\n",
        "print(result_anova.round(2).to_latex())"
      ]
    },
    {
      "cell_type": "markdown",
      "metadata": {
        "id": "NGh7LPzGRFMe"
      },
      "source": [
        "Conducting Two Sample t-test"
      ]
    },
    {
      "cell_type": "code",
      "execution_count": 21,
      "metadata": {
        "colab": {
          "base_uri": "https://localhost:8080/",
          "height": 253
        },
        "id": "-xcpg7t2RFMe",
        "outputId": "d86ebea3-12df-4458-c84b-645121cd4577"
      },
      "outputs": [
        {
          "data": {
            "text/html": [
              "<table class=\"simpletable\">\n",
              "<caption>Test Multiple Comparison ttest_ind \n",
              "FWER=0.05 method=bonf\n",
              "alphacSidak=0.01, alphacBonf=0.005</caption>\n",
              "<tr>\n",
              "     <th>group1</th>       <th>group2</th>      <th>stat</th>    <th>pval</th>  <th>pval_corr</th> <th>reject</th>\n",
              "</tr>\n",
              "<tr>\n",
              "   <td>Backstroke</td>  <td>Breaststroke</td> <td>-23.4029</td>   <td>0.0</td>     <td>0.0</td>     <td>True</td> \n",
              "</tr>\n",
              "<tr>\n",
              "   <td>Backstroke</td>    <td>Butterfly</td>   <td>-0.3231</td> <td>0.7492</td>    <td>1.0</td>     <td>False</td>\n",
              "</tr>\n",
              "<tr>\n",
              "   <td>Backstroke</td>    <td>Freestyle</td>   <td>18.9651</td>   <td>0.0</td>     <td>0.0</td>     <td>True</td> \n",
              "</tr>\n",
              "<tr>\n",
              "   <td>Backstroke</td>     <td>Medley</td>     <td>-4.2368</td> <td>0.0002</td>  <td>0.0022</td>    <td>True</td> \n",
              "</tr>\n",
              "<tr>\n",
              "  <td>Breaststroke</td>   <td>Butterfly</td>   <td>18.1855</td>   <td>0.0</td>     <td>0.0</td>     <td>True</td> \n",
              "</tr>\n",
              "<tr>\n",
              "  <td>Breaststroke</td>   <td>Freestyle</td>   <td>47.2693</td>   <td>0.0</td>     <td>0.0</td>     <td>True</td> \n",
              "</tr>\n",
              "<tr>\n",
              "  <td>Breaststroke</td>    <td>Medley</td>     <td>21.6131</td>   <td>0.0</td>     <td>0.0</td>     <td>True</td> \n",
              "</tr>\n",
              "<tr>\n",
              "    <td>Butterfly</td>    <td>Freestyle</td>   <td>15.5252</td>   <td>0.0</td>     <td>0.0</td>     <td>True</td> \n",
              "</tr>\n",
              "<tr>\n",
              "    <td>Butterfly</td>     <td>Medley</td>     <td>-3.0638</td> <td>0.0048</td>  <td>0.0479</td>    <td>True</td> \n",
              "</tr>\n",
              "<tr>\n",
              "    <td>Freestyle</td>     <td>Medley</td>    <td>-25.9482</td>   <td>0.0</td>     <td>0.0</td>     <td>True</td> \n",
              "</tr>\n",
              "</table>"
            ],
            "text/plain": [
              "<class 'statsmodels.iolib.table.SimpleTable'>"
            ]
          },
          "execution_count": 21,
          "metadata": {},
          "output_type": "execute_result"
        }
      ],
      "source": [
        "from statsmodels.stats.multicomp import MultiComparison\n",
        "from scipy.stats import ttest_ind\n",
        "   \n",
        "comp = MultiComparison(data_unique['Time'], data_unique['Category'])\n",
        "tbl, a1, a2 = comp.allpairtest(ttest_ind,method=\"bonf\",alpha = 0.05)\n",
        "tbl"
      ]
    },
    {
      "cell_type": "markdown",
      "metadata": {
        "id": "WP9n7MnzRFMf"
      },
      "source": [
        "Bonferroni Correlation"
      ]
    },
    {
      "cell_type": "code",
      "execution_count": 22,
      "metadata": {
        "id": "8eb6d-77RFMf"
      },
      "outputs": [
        {
          "name": "stdout",
          "output_type": "stream",
          "text": [
            "Multiple Comparison t-test Significance_value=0.05 FWER=0.26 method=bonf NEW_FWER=0.05, Adjusted_Significance_value=0.003\n"
          ]
        },
        {
          "data": {
            "text/html": [
              "<div>\n",
              "<style scoped>\n",
              "    .dataframe tbody tr th:only-of-type {\n",
              "        vertical-align: middle;\n",
              "    }\n",
              "\n",
              "    .dataframe tbody tr th {\n",
              "        vertical-align: top;\n",
              "    }\n",
              "\n",
              "    .dataframe thead th {\n",
              "        text-align: right;\n",
              "    }\n",
              "</style>\n",
              "<table border=\"1\" class=\"dataframe\">\n",
              "  <thead>\n",
              "    <tr style=\"text-align: right;\">\n",
              "      <th></th>\n",
              "      <th>group1</th>\n",
              "      <th>group2</th>\n",
              "      <th>stat</th>\n",
              "      <th>pval</th>\n",
              "      <th>pval_corr</th>\n",
              "      <th>reject_corr</th>\n",
              "      <th>reject</th>\n",
              "    </tr>\n",
              "  </thead>\n",
              "  <tbody>\n",
              "    <tr>\n",
              "      <th>1</th>\n",
              "      <td>Backstroke</td>\n",
              "      <td>Breaststroke</td>\n",
              "      <td>-23.4029</td>\n",
              "      <td>0.0</td>\n",
              "      <td>0.0</td>\n",
              "      <td>True</td>\n",
              "      <td>True</td>\n",
              "    </tr>\n",
              "    <tr>\n",
              "      <th>2</th>\n",
              "      <td>Backstroke</td>\n",
              "      <td>Butterfly</td>\n",
              "      <td>-0.3231</td>\n",
              "      <td>0.7492</td>\n",
              "      <td>1.0</td>\n",
              "      <td>False</td>\n",
              "      <td>False</td>\n",
              "    </tr>\n",
              "    <tr>\n",
              "      <th>3</th>\n",
              "      <td>Backstroke</td>\n",
              "      <td>Freestyle</td>\n",
              "      <td>18.9651</td>\n",
              "      <td>0.0</td>\n",
              "      <td>0.0</td>\n",
              "      <td>True</td>\n",
              "      <td>True</td>\n",
              "    </tr>\n",
              "    <tr>\n",
              "      <th>4</th>\n",
              "      <td>Backstroke</td>\n",
              "      <td>Medley</td>\n",
              "      <td>-4.2368</td>\n",
              "      <td>0.0002</td>\n",
              "      <td>0.0022</td>\n",
              "      <td>True</td>\n",
              "      <td>True</td>\n",
              "    </tr>\n",
              "    <tr>\n",
              "      <th>5</th>\n",
              "      <td>Breaststroke</td>\n",
              "      <td>Butterfly</td>\n",
              "      <td>18.1855</td>\n",
              "      <td>0.0</td>\n",
              "      <td>0.0</td>\n",
              "      <td>True</td>\n",
              "      <td>True</td>\n",
              "    </tr>\n",
              "    <tr>\n",
              "      <th>6</th>\n",
              "      <td>Breaststroke</td>\n",
              "      <td>Freestyle</td>\n",
              "      <td>47.2693</td>\n",
              "      <td>0.0</td>\n",
              "      <td>0.0</td>\n",
              "      <td>True</td>\n",
              "      <td>True</td>\n",
              "    </tr>\n",
              "    <tr>\n",
              "      <th>7</th>\n",
              "      <td>Breaststroke</td>\n",
              "      <td>Medley</td>\n",
              "      <td>21.6131</td>\n",
              "      <td>0.0</td>\n",
              "      <td>0.0</td>\n",
              "      <td>True</td>\n",
              "      <td>True</td>\n",
              "    </tr>\n",
              "    <tr>\n",
              "      <th>8</th>\n",
              "      <td>Butterfly</td>\n",
              "      <td>Freestyle</td>\n",
              "      <td>15.5252</td>\n",
              "      <td>0.0</td>\n",
              "      <td>0.0</td>\n",
              "      <td>True</td>\n",
              "      <td>True</td>\n",
              "    </tr>\n",
              "    <tr>\n",
              "      <th>9</th>\n",
              "      <td>Butterfly</td>\n",
              "      <td>Medley</td>\n",
              "      <td>-3.0638</td>\n",
              "      <td>0.0048</td>\n",
              "      <td>0.0479</td>\n",
              "      <td>True</td>\n",
              "      <td>True</td>\n",
              "    </tr>\n",
              "    <tr>\n",
              "      <th>10</th>\n",
              "      <td>Freestyle</td>\n",
              "      <td>Medley</td>\n",
              "      <td>-25.9482</td>\n",
              "      <td>0.0</td>\n",
              "      <td>0.0</td>\n",
              "      <td>True</td>\n",
              "      <td>True</td>\n",
              "    </tr>\n",
              "  </tbody>\n",
              "</table>\n",
              "</div>"
            ],
            "text/plain": [
              "          group1        group2      stat    pval pval_corr reject_corr  reject\n",
              "1     Backstroke  Breaststroke  -23.4029     0.0       0.0        True    True\n",
              "2     Backstroke     Butterfly   -0.3231  0.7492       1.0       False   False\n",
              "3     Backstroke     Freestyle   18.9651     0.0       0.0        True    True\n",
              "4     Backstroke        Medley   -4.2368  0.0002    0.0022        True    True\n",
              "5   Breaststroke     Butterfly   18.1855     0.0       0.0        True    True\n",
              "6   Breaststroke     Freestyle   47.2693     0.0       0.0        True    True\n",
              "7   Breaststroke        Medley   21.6131     0.0       0.0        True    True\n",
              "8      Butterfly     Freestyle   15.5252     0.0       0.0        True    True\n",
              "9      Butterfly        Medley   -3.0638  0.0048    0.0479        True    True\n",
              "10     Freestyle        Medley  -25.9482     0.0       0.0        True    True"
            ]
          },
          "execution_count": 22,
          "metadata": {},
          "output_type": "execute_result"
        }
      ],
      "source": [
        "df = pd.DataFrame(tbl,columns=[\"group1\",\"group2\",\"stat\",\"pval\",\"pval_corr\",\"reject_corr\"])\n",
        "df = df.iloc[1:]\n",
        "df['reject'] = df['pval'].astype(str) <= str(0.05)\n",
        "print(\"Multiple Comparison t-test Significance_value=0.05 FWER=0.26 method=bonf NEW_FWER=0.05, Adjusted_Significance_value=0.003\")\n",
        "df"
      ]
    },
    {
      "cell_type": "code",
      "execution_count": 23,
      "metadata": {
        "id": "PxlCt3gLRFMf"
      },
      "outputs": [],
      "source": [
        "# converting result to tex-format\n",
        "#pd.DataFrame(df).to_latex()"
      ]
    }
  ],
  "metadata": {
    "colab": {
      "collapsed_sections": [
        "gOJowJ4pRFMc",
        "k9FeVUE1RFMd",
        "MLuYGR8WRFMd",
        "fsaAdUEqRFMd",
        "-am4sx-vC-F1"
      ],
      "provenance": [],
      "toc_visible": true
    },
    "kernelspec": {
      "display_name": "Python 3.9.7 ('base')",
      "language": "python",
      "name": "python3"
    },
    "language_info": {
      "codemirror_mode": {
        "name": "ipython",
        "version": 3
      },
      "file_extension": ".py",
      "mimetype": "text/x-python",
      "name": "python",
      "nbconvert_exporter": "python",
      "pygments_lexer": "ipython3",
      "version": "3.9.7"
    },
    "orig_nbformat": 4,
    "vscode": {
      "interpreter": {
        "hash": "0f1b653f276705f8e277279ed4c100e1bf6252e7ca109921ba7d5d2dd359fc7f"
      }
    }
  },
  "nbformat": 4,
  "nbformat_minor": 0
}
